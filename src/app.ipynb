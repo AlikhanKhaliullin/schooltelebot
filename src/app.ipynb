{
 "cells": [
  {
   "cell_type": "code",
   "execution_count": 76,
   "metadata": {},
   "outputs": [],
   "source": [
    "import pandas as pd\n",
    "import glob\n",
    "import tabula\n",
    "from datetime import datetime, date, time"
   ]
  },
  {
   "cell_type": "code",
   "execution_count": 97,
   "metadata": {},
   "outputs": [
    {
     "name": "stdout",
     "output_type": "stream",
     "text": [
      "2:43:00\n"
     ]
    }
   ],
   "source": [
    "d1 = datetime.strptime(datetime.now().strftime(\"%H:%M\"),\"%H:%M\")\n",
    "d2 = datetime.strptime(\"18:33\", \"%H:%M\")\n",
    "print(d1-d2)\n"
   ]
  },
  {
   "cell_type": "code",
   "execution_count": 51,
   "metadata": {},
   "outputs": [
    {
     "data": {
      "text/plain": [
       "1"
      ]
     },
     "execution_count": 51,
     "metadata": {},
     "output_type": "execute_result"
    }
   ],
   "source": [
    "datetime.today().isoweekday()"
   ]
  },
  {
   "cell_type": "code",
   "execution_count": 4,
   "metadata": {},
   "outputs": [
    {
     "data": {
      "text/plain": [
       "['test.pdf']"
      ]
     },
     "execution_count": 4,
     "metadata": {},
     "output_type": "execute_result"
    }
   ],
   "source": [
    "pdf_files = glob.glob('*.pdf')\n",
    "pdf_files"
   ]
  },
  {
   "cell_type": "code",
   "execution_count": 5,
   "metadata": {},
   "outputs": [],
   "source": [
    "pdf_table = tabula.read_pdf(pdf_files[0],multiple_tables=True, pages='all')"
   ]
  },
  {
   "cell_type": "markdown",
   "metadata": {},
   "source": [
    "0 1 2 3 4 5 6 \n",
    "1 2 3 4 5 6 7"
   ]
  },
  {
   "cell_type": "code",
   "execution_count": 57,
   "metadata": {},
   "outputs": [
    {
     "name": "stdout",
     "output_type": "stream",
     "text": [
      "7 14\n",
      "8:00-8:45\n",
      "8:50-9:35\n",
      "9:45-10:30\n",
      "10:50-11:35\n",
      "11:55-12:40\n",
      "12:50-13:35\n",
      "13:45-14:30\n"
     ]
    }
   ],
   "source": [
    "day=2\n",
    "pdf_day = 0 \n",
    "id_raw =0\n",
    "reset=0\n",
    "page= 2\n",
    "while True:\n",
    "    if reset > pdf_table[page].iloc[id_raw,0]:\n",
    "        pdf_day+=1\n",
    "        if pdf_day == day:\n",
    "            break\n",
    "    reset = pdf_table[page].iloc[id_raw,0]\n",
    "    \n",
    "    id_raw+=1\n",
    "print(reset,id_raw)\n",
    "for i in range(id_raw-reset,id_raw):\n",
    "    print(pdf_table[page].iloc[i,1])"
   ]
  }
 ],
 "metadata": {
  "interpreter": {
   "hash": "6124bff5effb25ade1d3302675596c84d9a36e0bd2369bbe137240718885f57e"
  },
  "kernelspec": {
   "display_name": "Python 3.9.9 ('venv': venv)",
   "language": "python",
   "name": "python3"
  },
  "language_info": {
   "codemirror_mode": {
    "name": "ipython",
    "version": 3
   },
   "file_extension": ".py",
   "mimetype": "text/x-python",
   "name": "python",
   "nbconvert_exporter": "python",
   "pygments_lexer": "ipython3",
   "version": "3.9.9"
  },
  "orig_nbformat": 4
 },
 "nbformat": 4,
 "nbformat_minor": 2
}
